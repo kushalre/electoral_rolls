{
  "nbformat": 4,
  "nbformat_minor": 0,
  "metadata": {
    "colab": {
      "name": "april25_electoral_rolls_tn_scraping_pdf.ipynb",
      "provenance": [],
      "collapsed_sections": [],
      "toc_visible": true
    },
    "kernelspec": {
      "name": "python3",
      "display_name": "Python 3"
    },
    "language_info": {
      "name": "python"
    }
  },
  "cells": [
    {
      "cell_type": "markdown",
      "metadata": {
        "id": "E_bDtZvtZYAW"
      },
      "source": [
        "## **To Do**\n",
        "\n",
        "**Page 0** \n",
        "\n",
        "\n",
        "1. Title\n",
        "2. No. Name and Reservation Status of AC \n",
        "3. No. Name and Reservation Status of PC \n",
        "4. Revision Details <br> \n",
        "> 1.   Year\n",
        "> 2. Qualifying Date\n",
        "> 3. Type of Revision\n",
        "> 4. Date of Publication\n",
        "\n",
        "5. Roll Identification\n",
        "\n",
        "6. Part and Polling Areas Details <br> \n",
        "> 1. No. and name of sections in the part\n",
        "> 2. முக்கிய நகரம்‌ (அ) கிராமம்‌ (Town/Village) \n",
        "> 3.கி.நி.அ மண்டலம்‌ (Mandal)\n",
        "> 4. பிர்கா (Firkah/Revenue Division)\n",
        "> 5. காவல்‌ நிலையம்‌ (Police Station)\n",
        "> 6. வட்டம்‌ (Circle)\n",
        "> 7. மாவட்டம்‌ (District)\n",
        "> 8. அஞ்சலகக்குறியீட்டெண் (Pincode)\n",
        "\n",
        "7. Polling Station Details <br> \n",
        "> 1. No. and name of PS\n",
        "> 2. Address of PS \n",
        "> 3. Type of PS\n",
        "> 4. Auxilliary PS Number\n",
        "\n",
        "7. Number of Electors <br> \n",
        "> 1. Start Number\n",
        "> 2. Ending Number \n",
        "> 3. Net Electors (M/F/TG/Tot)\n",
        "\n",
        "\n",
        "\n",
        "**Page 1** \n",
        "\n",
        "1. None - Remove Page\n",
        "2. Crop PS Image and Store\n",
        "\n",
        "\n",
        "**Page 2** \n",
        "\n",
        "1.   Voter Block <br> \n",
        "> 1. VID\n",
        "> 1. Name \n",
        "> 2. Father/Husband Name \n",
        "> 3. House Number\n",
        "> 4. Age\n",
        "\n",
        "\n",
        " 2.   Age on, Publication Date and PageNO\n",
        "\n",
        "**Page 3 - n** \n",
        "\n",
        "\n",
        "1.   Voter Block <br> \n",
        "> 1. VID\n",
        "> 1. Name \n",
        "> 2. Father/Husband Name \n",
        "> 3. House Number\n",
        "> 4. Age\n",
        "\n",
        "\n",
        " 2.   Age on, Publication Date and PageNO\n",
        "\n"
      ]
    },
    {
      "cell_type": "markdown",
      "metadata": {
        "id": "REiLJ95TYDg6"
      },
      "source": [
        "# Import Modules"
      ]
    },
    {
      "cell_type": "code",
      "metadata": {
        "colab": {
          "base_uri": "https://localhost:8080/"
        },
        "id": "YfBjx8Tt1QR4",
        "outputId": "06efba17-60a9-4d0f-d30c-2729be991aa3"
      },
      "source": [
        "!sudo apt install tesseract-ocr\n",
        "!pip install pytesseract\n",
        "!pip install pdf2image\n",
        "!sudo apt-get install poppler-utils\n",
        "!pip install PyMuPDF\n",
        "\n",
        "!apt-get install tesseract-ocr-tam\n",
        "!ls -ltr /usr/share/tesseract-ocr/4.00/tessdata/tam.traineddata\n",
        "!tesseract -v"
      ],
      "execution_count": null,
      "outputs": [
        {
          "output_type": "stream",
          "text": [
            "Reading package lists... Done\n",
            "Building dependency tree       \n",
            "Reading state information... Done\n",
            "The following package was automatically installed and is no longer required:\n",
            "  libnvidia-common-460\n",
            "Use 'sudo apt autoremove' to remove it.\n",
            "The following additional packages will be installed:\n",
            "  tesseract-ocr-eng tesseract-ocr-osd\n",
            "The following NEW packages will be installed:\n",
            "  tesseract-ocr tesseract-ocr-eng tesseract-ocr-osd\n",
            "0 upgraded, 3 newly installed, 0 to remove and 34 not upgraded.\n",
            "Need to get 4,795 kB of archives.\n",
            "After this operation, 15.8 MB of additional disk space will be used.\n",
            "Get:1 http://archive.ubuntu.com/ubuntu bionic/universe amd64 tesseract-ocr-eng all 4.00~git24-0e00fe6-1.2 [1,588 kB]\n",
            "Get:2 http://archive.ubuntu.com/ubuntu bionic/universe amd64 tesseract-ocr-osd all 4.00~git24-0e00fe6-1.2 [2,989 kB]\n",
            "Get:3 http://archive.ubuntu.com/ubuntu bionic/universe amd64 tesseract-ocr amd64 4.00~git2288-10f4998a-2 [218 kB]\n",
            "Fetched 4,795 kB in 1s (5,177 kB/s)\n",
            "debconf: unable to initialize frontend: Dialog\n",
            "debconf: (No usable dialog-like program is installed, so the dialog based frontend cannot be used. at /usr/share/perl5/Debconf/FrontEnd/Dialog.pm line 76, <> line 3.)\n",
            "debconf: falling back to frontend: Readline\n",
            "debconf: unable to initialize frontend: Readline\n",
            "debconf: (This frontend requires a controlling tty.)\n",
            "debconf: falling back to frontend: Teletype\n",
            "dpkg-preconfigure: unable to re-open stdin: \n",
            "Selecting previously unselected package tesseract-ocr-eng.\n",
            "(Reading database ... 160690 files and directories currently installed.)\n",
            "Preparing to unpack .../tesseract-ocr-eng_4.00~git24-0e00fe6-1.2_all.deb ...\n",
            "Unpacking tesseract-ocr-eng (4.00~git24-0e00fe6-1.2) ...\n",
            "Selecting previously unselected package tesseract-ocr-osd.\n",
            "Preparing to unpack .../tesseract-ocr-osd_4.00~git24-0e00fe6-1.2_all.deb ...\n",
            "Unpacking tesseract-ocr-osd (4.00~git24-0e00fe6-1.2) ...\n",
            "Selecting previously unselected package tesseract-ocr.\n",
            "Preparing to unpack .../tesseract-ocr_4.00~git2288-10f4998a-2_amd64.deb ...\n",
            "Unpacking tesseract-ocr (4.00~git2288-10f4998a-2) ...\n",
            "Setting up tesseract-ocr-osd (4.00~git24-0e00fe6-1.2) ...\n",
            "Setting up tesseract-ocr-eng (4.00~git24-0e00fe6-1.2) ...\n",
            "Setting up tesseract-ocr (4.00~git2288-10f4998a-2) ...\n",
            "Processing triggers for man-db (2.8.3-2ubuntu0.1) ...\n",
            "Collecting pytesseract\n",
            "  Downloading https://files.pythonhosted.org/packages/a0/e6/a4e9fc8a93c1318540e8de6d8d4beb5749b7960388a7c7f27799fc2dd016/pytesseract-0.3.7.tar.gz\n",
            "Requirement already satisfied: Pillow in /usr/local/lib/python3.7/dist-packages (from pytesseract) (7.1.2)\n",
            "Building wheels for collected packages: pytesseract\n",
            "  Building wheel for pytesseract (setup.py) ... \u001b[?25l\u001b[?25hdone\n",
            "  Created wheel for pytesseract: filename=pytesseract-0.3.7-py2.py3-none-any.whl size=13945 sha256=2c6fa78368a4151acd37f627a785180fb00fa9f78a0c4d6eacced816688020c2\n",
            "  Stored in directory: /root/.cache/pip/wheels/81/20/7e/1dd0daad1575d5260916bb1e9781246430647adaef4b3ca3b3\n",
            "Successfully built pytesseract\n",
            "Installing collected packages: pytesseract\n",
            "Successfully installed pytesseract-0.3.7\n",
            "Collecting pdf2image\n",
            "  Downloading https://files.pythonhosted.org/packages/03/62/089030fd16ab3e5c245315d63c80b29250b8f9e4579b5a09306eb7e7539c/pdf2image-1.14.0-py3-none-any.whl\n",
            "Requirement already satisfied: pillow in /usr/local/lib/python3.7/dist-packages (from pdf2image) (7.1.2)\n",
            "Installing collected packages: pdf2image\n",
            "Successfully installed pdf2image-1.14.0\n",
            "Reading package lists... Done\n",
            "Building dependency tree       \n",
            "Reading state information... Done\n",
            "The following package was automatically installed and is no longer required:\n",
            "  libnvidia-common-460\n",
            "Use 'sudo apt autoremove' to remove it.\n",
            "The following NEW packages will be installed:\n",
            "  poppler-utils\n",
            "0 upgraded, 1 newly installed, 0 to remove and 34 not upgraded.\n",
            "Need to get 154 kB of archives.\n",
            "After this operation, 613 kB of additional disk space will be used.\n",
            "Get:1 http://archive.ubuntu.com/ubuntu bionic-updates/main amd64 poppler-utils amd64 0.62.0-2ubuntu2.12 [154 kB]\n",
            "Fetched 154 kB in 0s (347 kB/s)\n",
            "debconf: unable to initialize frontend: Dialog\n",
            "debconf: (No usable dialog-like program is installed, so the dialog based frontend cannot be used. at /usr/share/perl5/Debconf/FrontEnd/Dialog.pm line 76, <> line 1.)\n",
            "debconf: falling back to frontend: Readline\n",
            "debconf: unable to initialize frontend: Readline\n",
            "debconf: (This frontend requires a controlling tty.)\n",
            "debconf: falling back to frontend: Teletype\n",
            "dpkg-preconfigure: unable to re-open stdin: \n",
            "Selecting previously unselected package poppler-utils.\n",
            "(Reading database ... 160737 files and directories currently installed.)\n",
            "Preparing to unpack .../poppler-utils_0.62.0-2ubuntu2.12_amd64.deb ...\n",
            "Unpacking poppler-utils (0.62.0-2ubuntu2.12) ...\n",
            "Setting up poppler-utils (0.62.0-2ubuntu2.12) ...\n",
            "Processing triggers for man-db (2.8.3-2ubuntu0.1) ...\n",
            "Collecting PyMuPDF\n",
            "\u001b[?25l  Downloading https://files.pythonhosted.org/packages/3a/f4/3dfa60b77d8b2060c524958780fd085ef2ae91bfc2ba9a493df7d0abaf84/PyMuPDF-1.18.12-cp37-cp37m-manylinux2010_x86_64.whl (6.4MB)\n",
            "\u001b[K     |████████████████████████████████| 6.4MB 14.8MB/s \n",
            "\u001b[?25hInstalling collected packages: PyMuPDF\n",
            "Successfully installed PyMuPDF-1.18.12\n",
            "Reading package lists... Done\n",
            "Building dependency tree       \n",
            "Reading state information... Done\n",
            "The following package was automatically installed and is no longer required:\n",
            "  libnvidia-common-460\n",
            "Use 'apt autoremove' to remove it.\n",
            "The following NEW packages will be installed:\n",
            "  tesseract-ocr-tam\n",
            "0 upgraded, 1 newly installed, 0 to remove and 34 not upgraded.\n",
            "Need to get 1,070 kB of archives.\n",
            "After this operation, 3,253 kB of additional disk space will be used.\n",
            "Get:1 http://archive.ubuntu.com/ubuntu bionic/universe amd64 tesseract-ocr-tam all 4.00~git24-0e00fe6-1.2 [1,070 kB]\n",
            "Fetched 1,070 kB in 1s (1,632 kB/s)\n",
            "Selecting previously unselected package tesseract-ocr-tam.\n",
            "(Reading database ... 160765 files and directories currently installed.)\n",
            "Preparing to unpack .../tesseract-ocr-tam_4.00~git24-0e00fe6-1.2_all.deb ...\n",
            "Unpacking tesseract-ocr-tam (4.00~git24-0e00fe6-1.2) ...\n",
            "Setting up tesseract-ocr-tam (4.00~git24-0e00fe6-1.2) ...\n",
            "-rw-r--r-- 1 root root 3237963 Sep 15  2017 /usr/share/tesseract-ocr/4.00/tessdata/tam.traineddata\n",
            "tesseract 4.0.0-beta.1\n",
            " leptonica-1.75.3\n",
            "  libgif 5.1.4 : libjpeg 8d (libjpeg-turbo 1.5.2) : libpng 1.6.34 : libtiff 4.0.9 : zlib 1.2.11 : libwebp 0.6.1 : libopenjp2 2.3.0\n",
            "\n",
            " Found AVX2\n",
            " Found AVX\n",
            " Found SSE\n"
          ],
          "name": "stdout"
        }
      ]
    },
    {
      "cell_type": "code",
      "metadata": {
        "id": "kjag8yO73GZ1"
      },
      "source": [
        "from pdf2image import convert_from_path\n",
        "import pytesseract\n",
        "import shutil\n",
        "import pandas as pd\n",
        "from tqdm import tqdm\n",
        "import os\n",
        "import pickle\n",
        "import random\n",
        "try:\n",
        " from PIL import Image\n",
        "except ImportError:\n",
        " import Image\n",
        "import pdf2image\n",
        "import difflib\n",
        "import re\n",
        "import pandas as pd\n",
        "import sys\n",
        "import numpy as np\n",
        "from glob import glob\n",
        "from os import path\n",
        "home_folder = \"/content/drive/MyDrive/econ_polling/scraping_tamil_pdf/\"\n",
        "\n",
        "os.chdir(home_folder)"
      ],
      "execution_count": null,
      "outputs": []
    },
    {
      "cell_type": "code",
      "metadata": {
        "colab": {
          "base_uri": "https://localhost:8080/"
        },
        "id": "FAJrx3-QRCFw",
        "outputId": "6fe3e349-d5e2-40e5-fc18-4a0b9bdcb093"
      },
      "source": [
        "from google.colab import drive\n",
        "drive.mount('/content/drive')\n"
      ],
      "execution_count": null,
      "outputs": [
        {
          "output_type": "stream",
          "text": [
            "Mounted at /content/drive\n"
          ],
          "name": "stdout"
        }
      ]
    },
    {
      "cell_type": "markdown",
      "metadata": {
        "id": "Bqeiut1UYmS8"
      },
      "source": [
        "# Functions"
      ]
    },
    {
      "cell_type": "markdown",
      "metadata": {
        "id": "KnXn_DX0Y2O-"
      },
      "source": [
        "## File Processing functions"
      ]
    },
    {
      "cell_type": "code",
      "metadata": {
        "colab": {
          "base_uri": "https://localhost:8080/"
        },
        "id": "2s_eRTY6Y97c",
        "outputId": "475b38a9-a409-40ab-c897-685770d527b1"
      },
      "source": [
        "home_folder = \"/content/drive/MyDrive/econ_polling/scraping_tamil_pdf/\"\n",
        "\n",
        "os.chdir(home_folder)\n",
        "print(\"Directory is: \", os.getcwd())\n",
        "\n",
        "working_folder='AC178'\n",
        "\n",
        "def find_ext(dr, ext):\n",
        "    return glob(path.join(dr,\"*.{}\".format(ext)))\n",
        "\n",
        "pdf_file_list=find_ext('./'+working_folder,'pdf')\n",
        "pdf_file_list\n",
        "    "
      ],
      "execution_count": null,
      "outputs": [
        {
          "output_type": "stream",
          "text": [
            "Directory is:  /content/drive/MyDrive/econ_polling/scraping_tamil_pdf\n"
          ],
          "name": "stdout"
        },
        {
          "output_type": "execute_result",
          "data": {
            "text/plain": [
              "['./AC178/ac178016.pdf',\n",
              " './AC178/ac178002.pdf',\n",
              " './AC178/ac178003.pdf',\n",
              " './AC178/ac178017.pdf',\n",
              " './AC178/ac178029.pdf',\n",
              " './AC178/ac178001.pdf',\n",
              " './AC178/ac178015.pdf',\n",
              " './AC178/ac178014.pdf',\n",
              " './AC178/ac178028.pdf',\n",
              " './AC178/ac178004.pdf',\n",
              " './AC178/ac178010.pdf',\n",
              " './AC178/ac178038.pdf',\n",
              " './AC178/ac178039.pdf',\n",
              " './AC178/ac178011.pdf',\n",
              " './AC178/ac178005.pdf',\n",
              " './AC178/ac178013.pdf',\n",
              " './AC178/ac178007.pdf',\n",
              " './AC178/ac178006.pdf',\n",
              " './AC178/ac178012.pdf',\n",
              " './AC178/ac178040.pdf',\n",
              " './AC178/ac178037.pdf',\n",
              " './AC178/ac178023.pdf',\n",
              " './AC178/ac178022.pdf',\n",
              " './AC178/ac178036.pdf',\n",
              " './AC178/ac178008.pdf',\n",
              " './AC178/ac178020.pdf',\n",
              " './AC178/ac178034.pdf',\n",
              " './AC178/ac178035.pdf',\n",
              " './AC178/ac178021.pdf',\n",
              " './AC178/ac178009.pdf',\n",
              " './AC178/ac178025.pdf',\n",
              " './AC178/ac178031.pdf',\n",
              " './AC178/ac178019.pdf',\n",
              " './AC178/ac178018.pdf',\n",
              " './AC178/ac178030.pdf',\n",
              " './AC178/ac178024.pdf',\n",
              " './AC178/ac178032.pdf',\n",
              " './AC178/ac178026.pdf',\n",
              " './AC178/ac178027.pdf',\n",
              " './AC178/ac178033.pdf']"
            ]
          },
          "metadata": {
            "tags": []
          },
          "execution_count": 136
        }
      ]
    },
    {
      "cell_type": "code",
      "metadata": {
        "colab": {
          "base_uri": "https://localhost:8080/"
        },
        "id": "IR6VPyMevrRa",
        "outputId": "04898d04-6635-4559-b9bd-9c69f106d9f3"
      },
      "source": [
        "### Convert all PDFs into Images\n",
        "for pdffile in tqdm(pdf_file_list):\n",
        "  image_list=[]\n",
        "  working_path='./'+working_folder+'/'+pdffile.strip('.pdf')+'/images'\n",
        "  if not os.path.exists(working_path):\n",
        "    os.makedirs(working_path)\n",
        "  print('Working on PDF file: ',pdffile )\n",
        "  image_list=image_pdf('./'+working_folder+'/'+pdffile,working_path)\n",
        "  with open(working_path+'/_image_list.ob', 'wb') as fp:\n",
        "    pickle.dump(image_list, fp)"
      ],
      "execution_count": null,
      "outputs": [
        {
          "output_type": "stream",
          "text": [
            "\r  0%|          | 0/40 [00:00<?, ?it/s]"
          ],
          "name": "stderr"
        },
        {
          "output_type": "stream",
          "text": [
            "Working on PDF file:  ac178016.pdf\n"
          ],
          "name": "stdout"
        },
        {
          "output_type": "stream",
          "text": [
            "\r  2%|▎         | 1/40 [00:28<18:18, 28.17s/it]"
          ],
          "name": "stderr"
        },
        {
          "output_type": "stream",
          "text": [
            "Working on PDF file:  ac178002.pdf\n"
          ],
          "name": "stdout"
        },
        {
          "output_type": "stream",
          "text": [
            "\r  5%|▌         | 2/40 [00:50<16:47, 26.53s/it]"
          ],
          "name": "stderr"
        },
        {
          "output_type": "stream",
          "text": [
            "Working on PDF file:  ac178003.pdf\n"
          ],
          "name": "stdout"
        },
        {
          "output_type": "stream",
          "text": [
            "\r  8%|▊         | 3/40 [01:24<17:45, 28.80s/it]"
          ],
          "name": "stderr"
        },
        {
          "output_type": "stream",
          "text": [
            "Working on PDF file:  ac178017.pdf\n"
          ],
          "name": "stdout"
        },
        {
          "output_type": "stream",
          "text": [
            "\r 10%|█         | 4/40 [01:42<15:18, 25.52s/it]"
          ],
          "name": "stderr"
        },
        {
          "output_type": "stream",
          "text": [
            "Working on PDF file:  ac178029.pdf\n"
          ],
          "name": "stdout"
        },
        {
          "output_type": "stream",
          "text": [
            "\r 12%|█▎        | 5/40 [01:59<13:22, 22.93s/it]"
          ],
          "name": "stderr"
        },
        {
          "output_type": "stream",
          "text": [
            "Working on PDF file:  ac178001.pdf\n"
          ],
          "name": "stdout"
        },
        {
          "output_type": "stream",
          "text": [
            "\r 15%|█▌        | 6/40 [02:24<13:21, 23.58s/it]"
          ],
          "name": "stderr"
        },
        {
          "output_type": "stream",
          "text": [
            "Working on PDF file:  ac178015.pdf\n"
          ],
          "name": "stdout"
        },
        {
          "output_type": "stream",
          "text": [
            "\r 18%|█▊        | 7/40 [02:40<11:37, 21.15s/it]"
          ],
          "name": "stderr"
        },
        {
          "output_type": "stream",
          "text": [
            "Working on PDF file:  ac178014.pdf\n"
          ],
          "name": "stdout"
        },
        {
          "output_type": "stream",
          "text": [
            "\r 20%|██        | 8/40 [03:05<11:57, 22.41s/it]"
          ],
          "name": "stderr"
        },
        {
          "output_type": "stream",
          "text": [
            "Working on PDF file:  ac178028.pdf\n"
          ],
          "name": "stdout"
        },
        {
          "output_type": "stream",
          "text": [
            "\r 22%|██▎       | 9/40 [03:28<11:35, 22.44s/it]"
          ],
          "name": "stderr"
        },
        {
          "output_type": "stream",
          "text": [
            "Working on PDF file:  ac178004.pdf\n"
          ],
          "name": "stdout"
        },
        {
          "output_type": "stream",
          "text": [
            "\r 25%|██▌       | 10/40 [03:45<10:30, 21.02s/it]"
          ],
          "name": "stderr"
        },
        {
          "output_type": "stream",
          "text": [
            "Working on PDF file:  ac178010.pdf\n"
          ],
          "name": "stdout"
        },
        {
          "output_type": "stream",
          "text": [
            "\r 28%|██▊       | 11/40 [04:20<12:12, 25.25s/it]"
          ],
          "name": "stderr"
        },
        {
          "output_type": "stream",
          "text": [
            "Working on PDF file:  ac178038.pdf\n"
          ],
          "name": "stdout"
        },
        {
          "output_type": "stream",
          "text": [
            "\r 30%|███       | 12/40 [04:50<12:24, 26.57s/it]"
          ],
          "name": "stderr"
        },
        {
          "output_type": "stream",
          "text": [
            "Working on PDF file:  ac178039.pdf\n"
          ],
          "name": "stdout"
        },
        {
          "output_type": "stream",
          "text": [
            "\r 32%|███▎      | 13/40 [05:14<11:39, 25.91s/it]"
          ],
          "name": "stderr"
        },
        {
          "output_type": "stream",
          "text": [
            "Working on PDF file:  ac178011.pdf\n"
          ],
          "name": "stdout"
        },
        {
          "output_type": "stream",
          "text": [
            "\r 35%|███▌      | 14/40 [05:42<11:27, 26.44s/it]"
          ],
          "name": "stderr"
        },
        {
          "output_type": "stream",
          "text": [
            "Working on PDF file:  ac178005.pdf\n"
          ],
          "name": "stdout"
        },
        {
          "output_type": "stream",
          "text": [
            "\r 38%|███▊      | 15/40 [06:04<10:23, 24.96s/it]"
          ],
          "name": "stderr"
        },
        {
          "output_type": "stream",
          "text": [
            "Working on PDF file:  ac178013.pdf\n"
          ],
          "name": "stdout"
        },
        {
          "output_type": "stream",
          "text": [
            "\r 40%|████      | 16/40 [06:26<09:42, 24.29s/it]"
          ],
          "name": "stderr"
        },
        {
          "output_type": "stream",
          "text": [
            "Working on PDF file:  ac178007.pdf\n"
          ],
          "name": "stdout"
        },
        {
          "output_type": "stream",
          "text": [
            "\r 42%|████▎     | 17/40 [06:51<09:19, 24.33s/it]"
          ],
          "name": "stderr"
        },
        {
          "output_type": "stream",
          "text": [
            "Working on PDF file:  ac178006.pdf\n"
          ],
          "name": "stdout"
        },
        {
          "output_type": "stream",
          "text": [
            "\r 45%|████▌     | 18/40 [07:23<09:45, 26.60s/it]"
          ],
          "name": "stderr"
        },
        {
          "output_type": "stream",
          "text": [
            "Working on PDF file:  ac178012.pdf\n"
          ],
          "name": "stdout"
        },
        {
          "output_type": "stream",
          "text": [
            "\r 48%|████▊     | 19/40 [07:43<08:37, 24.65s/it]"
          ],
          "name": "stderr"
        },
        {
          "output_type": "stream",
          "text": [
            "Working on PDF file:  ac178040.pdf\n"
          ],
          "name": "stdout"
        },
        {
          "output_type": "stream",
          "text": [
            "\r 50%|█████     | 20/40 [08:06<08:05, 24.30s/it]"
          ],
          "name": "stderr"
        },
        {
          "output_type": "stream",
          "text": [
            "Working on PDF file:  ac178037.pdf\n"
          ],
          "name": "stdout"
        },
        {
          "output_type": "stream",
          "text": [
            "\r 52%|█████▎    | 21/40 [08:30<07:37, 24.08s/it]"
          ],
          "name": "stderr"
        },
        {
          "output_type": "stream",
          "text": [
            "Working on PDF file:  ac178023.pdf\n"
          ],
          "name": "stdout"
        },
        {
          "output_type": "stream",
          "text": [
            "\r 55%|█████▌    | 22/40 [09:03<08:00, 26.68s/it]"
          ],
          "name": "stderr"
        },
        {
          "output_type": "stream",
          "text": [
            "Working on PDF file:  ac178022.pdf\n"
          ],
          "name": "stdout"
        },
        {
          "output_type": "stream",
          "text": [
            "\r 57%|█████▊    | 23/40 [09:30<07:38, 26.96s/it]"
          ],
          "name": "stderr"
        },
        {
          "output_type": "stream",
          "text": [
            "Working on PDF file:  ac178036.pdf\n"
          ],
          "name": "stdout"
        },
        {
          "output_type": "stream",
          "text": [
            "\r 60%|██████    | 24/40 [09:58<07:15, 27.22s/it]"
          ],
          "name": "stderr"
        },
        {
          "output_type": "stream",
          "text": [
            "Working on PDF file:  ac178008.pdf\n"
          ],
          "name": "stdout"
        },
        {
          "output_type": "stream",
          "text": [
            "\r 62%|██████▎   | 25/40 [10:23<06:36, 26.44s/it]"
          ],
          "name": "stderr"
        },
        {
          "output_type": "stream",
          "text": [
            "Working on PDF file:  ac178020.pdf\n"
          ],
          "name": "stdout"
        },
        {
          "output_type": "stream",
          "text": [
            "\r 65%|██████▌   | 26/40 [10:53<06:27, 27.69s/it]"
          ],
          "name": "stderr"
        },
        {
          "output_type": "stream",
          "text": [
            "Working on PDF file:  ac178034.pdf\n"
          ],
          "name": "stdout"
        },
        {
          "output_type": "stream",
          "text": [
            "\r 68%|██████▊   | 27/40 [11:18<05:49, 26.89s/it]"
          ],
          "name": "stderr"
        },
        {
          "output_type": "stream",
          "text": [
            "Working on PDF file:  ac178035.pdf\n"
          ],
          "name": "stdout"
        },
        {
          "output_type": "stream",
          "text": [
            "\r 70%|███████   | 28/40 [11:48<05:32, 27.72s/it]"
          ],
          "name": "stderr"
        },
        {
          "output_type": "stream",
          "text": [
            "Working on PDF file:  ac178021.pdf\n"
          ],
          "name": "stdout"
        },
        {
          "output_type": "stream",
          "text": [
            "\r 72%|███████▎  | 29/40 [12:12<04:53, 26.71s/it]"
          ],
          "name": "stderr"
        },
        {
          "output_type": "stream",
          "text": [
            "Working on PDF file:  ac178009.pdf\n"
          ],
          "name": "stdout"
        },
        {
          "output_type": "stream",
          "text": [
            "\r 75%|███████▌  | 30/40 [12:41<04:34, 27.41s/it]"
          ],
          "name": "stderr"
        },
        {
          "output_type": "stream",
          "text": [
            "Working on PDF file:  ac178025.pdf\n"
          ],
          "name": "stdout"
        },
        {
          "output_type": "stream",
          "text": [
            "\r 78%|███████▊  | 31/40 [13:14<04:20, 28.90s/it]"
          ],
          "name": "stderr"
        },
        {
          "output_type": "stream",
          "text": [
            "Working on PDF file:  ac178031.pdf\n"
          ],
          "name": "stdout"
        },
        {
          "output_type": "stream",
          "text": [
            "\r 80%|████████  | 32/40 [13:42<03:48, 28.56s/it]"
          ],
          "name": "stderr"
        },
        {
          "output_type": "stream",
          "text": [
            "Working on PDF file:  ac178019.pdf\n"
          ],
          "name": "stdout"
        },
        {
          "output_type": "stream",
          "text": [
            "\r 82%|████████▎ | 33/40 [14:05<03:08, 26.99s/it]"
          ],
          "name": "stderr"
        },
        {
          "output_type": "stream",
          "text": [
            "Working on PDF file:  ac178018.pdf\n"
          ],
          "name": "stdout"
        },
        {
          "output_type": "stream",
          "text": [
            "\r 85%|████████▌ | 34/40 [14:30<02:39, 26.54s/it]"
          ],
          "name": "stderr"
        },
        {
          "output_type": "stream",
          "text": [
            "Working on PDF file:  ac178030.pdf\n"
          ],
          "name": "stdout"
        },
        {
          "output_type": "stream",
          "text": [
            "\r 88%|████████▊ | 35/40 [15:04<02:22, 28.53s/it]"
          ],
          "name": "stderr"
        },
        {
          "output_type": "stream",
          "text": [
            "Working on PDF file:  ac178024.pdf\n"
          ],
          "name": "stdout"
        },
        {
          "output_type": "stream",
          "text": [
            "\r 90%|█████████ | 36/40 [15:31<01:53, 28.25s/it]"
          ],
          "name": "stderr"
        },
        {
          "output_type": "stream",
          "text": [
            "Working on PDF file:  ac178032.pdf\n"
          ],
          "name": "stdout"
        },
        {
          "output_type": "stream",
          "text": [
            "\r 92%|█████████▎| 37/40 [15:57<01:22, 27.39s/it]"
          ],
          "name": "stderr"
        },
        {
          "output_type": "stream",
          "text": [
            "Working on PDF file:  ac178026.pdf\n"
          ],
          "name": "stdout"
        },
        {
          "output_type": "stream",
          "text": [
            "\r 95%|█████████▌| 38/40 [16:14<00:48, 24.46s/it]"
          ],
          "name": "stderr"
        },
        {
          "output_type": "stream",
          "text": [
            "Working on PDF file:  ac178027.pdf\n"
          ],
          "name": "stdout"
        },
        {
          "output_type": "stream",
          "text": [
            "\r 98%|█████████▊| 39/40 [16:37<00:24, 24.07s/it]"
          ],
          "name": "stderr"
        },
        {
          "output_type": "stream",
          "text": [
            "Working on PDF file:  ac178033.pdf\n"
          ],
          "name": "stdout"
        },
        {
          "output_type": "stream",
          "text": [
            "100%|██████████| 40/40 [17:09<00:00, 25.75s/it]\n"
          ],
          "name": "stderr"
        }
      ]
    },
    {
      "cell_type": "markdown",
      "metadata": {
        "id": "6stVv3TBYLBD"
      },
      "source": [
        "## Image reading/processing functions"
      ]
    },
    {
      "cell_type": "code",
      "metadata": {
        "id": "OComiuW93c84"
      },
      "source": [
        "###Function to convert PDFs to Images \n",
        "# Input: PDF File name with .pdf and folder relative to current directory\n",
        "# Output: Saves images in the folder\n",
        "\n",
        "def image_pdf(pdf_file, folder):\n",
        "  #pdf_file='test'\n",
        "  images = convert_from_path(pdf_file)\n",
        "  if not os.path.exists(folder):\n",
        "      os.makedirs(folder)\n",
        "  for i in range(len(images)):\n",
        "\n",
        "    images[i].save(folder+'/'+ str(i) +'.jpg', 'JPEG')\n",
        "  return images \n",
        "\n",
        "###Function to convert Images to Text \n",
        "# Input: Image File with and folder relative to current directory\n",
        "# Output: Saves images in the folder\n",
        "\n",
        "def image_text(imageORfile,psm=11,if_file=True):\n",
        "\n",
        "  #imageORfile='test0.jpg'\n",
        "  if if_file:\n",
        "    text_extracted = pytesseract.image_to_string(Image.open(imageORfile),config='psm '+str(psm),lang='tam+eng')\n",
        "  else:\n",
        "    text_extracted = pytesseract.image_to_string(imageORfile,config='psm '+str(psm), lang='tam+eng') \n",
        "  return text_extracted \n",
        "\n",
        "###Function to crop images \n",
        "\n",
        "\n",
        "def image_crop(imageORfile,crop_dim_list,if_file=True):\n",
        "  if if_file:\n",
        "    im=Image.open(imageORfile)\n",
        "  else:\n",
        "    im= imageORfile\n",
        "  im1 = im.crop(crop_dim_list)\n",
        "  return im1 \n",
        "\n",
        "###Function to crop a page into voter blocks\n",
        "\n",
        "def voter_block_crop(page_image,is_page2=False):\n",
        "  crop_block_list=[]\n",
        "  imag=page_image\n",
        "  if is_page2:\n",
        "    start_height=133\n",
        "  else:\n",
        "    start_height=115\n",
        "  width=501\n",
        "  height=195\n",
        "  b=start_height\n",
        "  for i in np.arange(1,31,1):  \n",
        "    if (i%3)==1:\n",
        "      a=60\n",
        "      c,d=a+width,b+height\n",
        "      crop_list=[a,b,c,d]\n",
        "      crop_block_list.append(image_crop(imag,crop_list,False))\n",
        "    if (i%3)==2:\n",
        "      a=561\n",
        "      c,d=a+width,b+height\n",
        "      crop_list=[a,b,c,d]\n",
        "      crop_block_list.append(image_crop(imag,crop_list,False))    \n",
        "    if (i%3)==0:\n",
        "      a=1063\n",
        "      c,d=a+width,b+height\n",
        "      crop_list=[a,b,c,d]\n",
        "      if i>=3:\n",
        "        b+=height\n",
        "      crop_block_list.append(image_crop(imag,crop_list,False))\n",
        "  crop_block_image_list=crop_block_list\n",
        "  \n",
        "  return crop_block_image_list\n",
        "\n",
        "###Function to crop a page into voter blocks\n",
        "\n",
        "def voter_block_crop(page_image,is_page2=False):\n",
        "  crop_block_list=[]\n",
        "  imag=page_image\n",
        "  if is_page2:\n",
        "    start_height=133\n",
        "  else:\n",
        "    start_height=115\n",
        "  width=501\n",
        "  height=195\n",
        "  b=start_height\n",
        "  for i in np.arange(1,31,1):  \n",
        "    if (i%3)==1:\n",
        "      a=60\n",
        "      c,d=a+width,b+height\n",
        "      crop_list=[a,b,c,d]\n",
        "      crop_block_list.append(image_crop(imag,crop_list,False))\n",
        "    if (i%3)==2:\n",
        "      a=561\n",
        "      c,d=a+width,b+height\n",
        "      crop_list=[a,b,c,d]\n",
        "      crop_block_list.append(image_crop(imag,crop_list,False))    \n",
        "    if (i%3)==0:\n",
        "      a=1063\n",
        "      c,d=a+width,b+height\n",
        "      crop_list=[a,b,c,d]\n",
        "      if i>=3:\n",
        "        b+=height\n",
        "      crop_block_list.append(image_crop(imag,crop_list,False))\n",
        "  crop_block_image_list=crop_block_list\n",
        "  \n",
        "  return crop_block_image_list\n"
      ],
      "execution_count": null,
      "outputs": []
    },
    {
      "cell_type": "code",
      "metadata": {
        "id": "k1T8y56q7S3I"
      },
      "source": [
        "## Extract Information from First Page\n",
        "def first_page_extract(page_image,is_page2=False):\n",
        "  image_to_crop=page_image\n",
        "  ## AC Name\n",
        "  crop_list=[74,117,1257,208]\n",
        "  text_raw= image_text(image_crop(image_to_crop,crop_list,False),psm=11,if_file=False)\n",
        "  text_raw=text_raw.strip()\n",
        "  ac_name=text_raw.split(':')[-1]\n",
        "\n",
        "  ## PC Name\n",
        "  crop_list=[74,208,1514,289]\n",
        "  text_raw= image_text(image_crop(image_to_crop,crop_list,False),psm=11,if_file=False)\n",
        "  text_raw=text_raw.strip()\n",
        "  pc_name=text_raw.split(':')[-1]\n",
        "\n",
        "  #Revision Details\n",
        "  crop_list=[74,361,837,643]\n",
        "  text_raw= image_text(image_crop(image_to_crop,crop_list,False),psm=11,if_file=False)\n",
        "  year_pub=text_raw.split('ஆண்டு')[1].split('\\n')[0]\n",
        "  qual_date=text_raw.split('நாள்‌')[-1]\n",
        "  text_revision_details=text_raw\n",
        "\n",
        "  #Roll Identification\n",
        "  crop_list=[837,360,1519,643]\n",
        "  text_raw= image_text(image_crop(image_to_crop,crop_list,False),psm=11,if_file=False)\n",
        "  text_raw=text_raw.strip()\n",
        "  text_roll_identifier=text_raw\n",
        "\n",
        "  # Name of sections\n",
        "  crop_list=[74,700,704,1235]\n",
        "  text_raw= image_text(image_crop(image_to_crop,crop_list,False),psm=11,if_file=False)\n",
        "  text_raw=text_raw.strip()\n",
        "  text_sections_name=text_raw\n",
        "\n",
        "  #main_town, police_station, mandal, revenue_division, circle, district, pincode\n",
        "\n",
        "  crop_list=[704,755,1515,1235]\n",
        "  text_raw= image_text(image_crop(image_to_crop,crop_list,False),psm=11,if_file=False)\n",
        "  text_raw=text_raw.strip()\n",
        "  state= 'Tamil Nadu'\n",
        "  j=[]\n",
        "  for k in text_raw.split('\\n'):\n",
        "    if k != '' and k != ' ' and k != '\\x0c'and k != '  ' and k != '   'and k != '    ' and k!=\"     \":\n",
        "      j.append(k)\n",
        "  if len(j)==14:\n",
        "    main_town = j[-7]\n",
        "    mandal = j[-6]\n",
        "    revenue_division = j[-5]\n",
        "    police_station = j[-4]\n",
        "    circle = j[-3]\n",
        "    district = j[-2]\n",
        "    pincode = j[-1]\n",
        "  else:  \n",
        "    main_town = text_raw.split('கிராமம்‌')[1].split('\\n')[0]\n",
        "    police_station = text_raw.split('நிலையம்‌')[1].split('\\n')[0]\n",
        "    mandal = text_raw.split('மண்டலம்‌')[1].split('\\n')[0]\n",
        "    revenue_division = text_raw.split('பிர்கா')[1].split('\\n')[0]\n",
        "    circle = text_raw.split('வட்டம்‌')[1].split('\\n')[0]\n",
        "    district = text_raw.split('மாவட்டம்‌')[1].split('\\n')[0]\n",
        "    pincode = text_raw.split('அஞ்சலகக்குறியீட்டெண்‌')[1].split('\\n')[0]\n",
        "\n",
        "\n",
        "  ##Name and Address of PS\n",
        "  crop_list=[74,1286,872,1527]\n",
        "  text_raw= image_text(image_crop(image_to_crop,crop_list,False),psm=11,if_file=False)\n",
        "  ps_name = text_raw.split('பெயர்‌')[1].split('வாக்குச்சாவடியின்‌')[0]\n",
        "  ps_address = text_raw.split('முகவரி')[1]\n",
        "\n",
        "  ##Type of polling station\n",
        "  crop_list=[1310,1290,1510,1390]\n",
        "  text_raw= image_text(image_crop(image_to_crop,crop_list,False),psm=11,if_file=False)\n",
        "  ps_type=text_raw\n",
        "\n",
        "  ##Sl No End\n",
        "  crop_list=[260,1650,548,1690]\n",
        "  text_raw= image_text(image_crop(image_to_crop,crop_list,False),psm=11,if_file=False)\n",
        "  sl_no_end=text_raw\n",
        "\n",
        "  ##Male\n",
        "  crop_list=[545,1655,829,1690]\n",
        "  text_raw= image_text(image_crop(image_to_crop,crop_list,False),psm=11,if_file=False)\n",
        "  net_voters_male=text_raw\n",
        "\n",
        "  ##Female\n",
        "  crop_list=[839,1655,1018,1690]\n",
        "  text_raw= image_text(image_crop(image_to_crop,crop_list,False),psm=11,if_file=False)\n",
        "  net_voters_female=text_raw\n",
        "\n",
        "  ##Third Gender\n",
        "  crop_list=[1018,1655,1267,1690]\n",
        "  text_raw= image_text(image_crop(image_to_crop,crop_list,False),psm=11,if_file=False)\n",
        "  if not text_raw=='\\x0c':\n",
        "    net_voters_third_gender=text_raw\n",
        "  else:\n",
        "    net_voters_third_gender=0\n",
        "  ##Total\n",
        "  image_to_crop=image_list[0]\n",
        "  crop_list=[1272,1651,1515,1685]\n",
        "  text_raw= image_text(image_crop(image_to_crop,crop_list,False),psm=11,if_file=False)\n",
        "  net_voters_total=text_raw\n",
        "\n",
        "  return sl_no_end,ac_name,pc_name,state,part_num,year_pub,qual_date, main_town, police_station, mandal, revenue_division, circle, district, pincode, ps_name, ps_address, ps_type,net_voters_male, net_voters_female, net_voters_third_gender, net_voters_total,text_revision_details,text_roll_identifier,text_sections_name"
      ],
      "execution_count": null,
      "outputs": []
    },
    {
      "cell_type": "markdown",
      "metadata": {
        "id": "StwwmCnKYU0E"
      },
      "source": [
        "## Text processing functions"
      ]
    },
    {
      "cell_type": "code",
      "metadata": {
        "id": "t1TuH468YbZK"
      },
      "source": [
        "#### Name ####\n",
        "def get_name(text_rows,is_list_or_string=False):\n",
        "  if is_list_or_string==False:\n",
        "    name=text_rows.strip('பெயர்‌:')\n",
        "  else:\n",
        "    row=text_rows\n",
        "    if len(row)==6:\n",
        "      for row_iter in np.arange(len(row)):\n",
        "        if row[row_iter].startswith('பெயர்‌:'):\n",
        "          if not row[row_iter+1].startswith(('கணவர்‌','தந்‌ைத','தந்த','இதரர்‌','தாய்‌')):\n",
        "            name=row[row_iter]+' '+row[row_iter+1]\n",
        "            name=name.strip('பெயர்‌:')\n",
        "          else:\n",
        "            name=row[row_iter].replace('-', '').strip('பெயர்‌:') \n",
        "  return name\n",
        "\n",
        "#### Voter ID  ####\n",
        "def get_voterid(text_rows,is_list_or_string=False):\n",
        "  voterid=\"\"\n",
        "  if is_list_or_string==False:\n",
        "    voterid=text_rows.strip()\n",
        "  else:\n",
        "    row=text_rows\n",
        "    if len(row)==6:\n",
        "      for row_iter in np.arange(len(row)):\n",
        "        if not row[row_iter].startswith(('கணவர்‌','தந்‌ைத','தந்த','வயது','பெயர்‌:','வீட்டு','Photo','Available','is','Proto')):\n",
        "          if not row[row_iter-1].startswith(('கணவர்‌','தந்‌ைத','தந்த','பெயர்‌:','இதரர்‌','தாய்‌')):\n",
        "            voterid=row[row_iter].strip()\n",
        "  return voterid\n",
        "\n",
        "#### House Number ####\n",
        "\n",
        "def get_house_no(text_rows,is_list_or_string=False):\n",
        "  house_no=''\n",
        "  row = text_rows\n",
        "  if is_list_or_string==False:\n",
        "    house_no=text_rows.replace('-', '').replace('&','').replace('@','').replace('%','').strip().split(':')[-1]\n",
        "  else:\n",
        "    for row_iter in np.arange(len(row)):\n",
        "      if row[row_iter].startswith(('வீட்டு')):\n",
        "        house_no = row[row_iter].split(':')[-1]            \n",
        "  return house_no\n",
        "\n",
        "#### Gender and Age ####\n",
        "def get_gender_age(text_rows,is_list_or_string=False):\n",
        "  age, gender ='',''\n",
        "  row = text_rows\n",
        "  if is_list_or_string==False:\n",
        "    gender = text_rows.split(('பாலினம்'))[-1].split(':')[-1]\n",
        "    age = text_rows.split(('பாலினம்'))[0].strip('வயது:')\n",
        "  else:    \n",
        "    for row_iter in np.arange(len(row)):\n",
        "      if row[row_iter].startswith(('வயது')):\n",
        "        gender = row[row_iter].split(('பாலினம்'))[-1].split(':')[-1]\n",
        "        age = row[row_iter].split(('பாலினம்'))[0].strip('வயது:')\n",
        "\n",
        "  return age, gender\n",
        "\n",
        "#### Father/Husband Name ####\n",
        "def get_f_h_name(text_rows,is_list_or_string=False):\n",
        "  f_or_h,f_h_name='',''\n",
        "  if is_list_or_string==False:\n",
        "    if text_rows.startswith(('தந்‌ைத','தந்த')):\n",
        "        f_h_name=text_rows.split(':')[-1]\n",
        "        f_or_h='father'\n",
        "    elif text_rows.startswith(('தாய்‌')):\n",
        "        f_h_name=text_rows.split(':')[-1]\n",
        "        f_or_h='mother'\n",
        "    elif text_rows.startswith(('இதரர்‌')):\n",
        "        f_h_name=text_rows.split(':')[-1]\n",
        "        f_or_h='other'\n",
        "    elif text_rows.startswith(('கணவர்‌')):\n",
        "        f_h_name=text_rows.split(':')[-1]\n",
        "        f_or_h='husband'\n",
        "  else:\n",
        "    row = text_rows\n",
        "    for row_iter in np.arange(len(row)):\n",
        "      if row[row_iter].startswith(('தந்‌ைத','தந்த')):\n",
        "        if not row[row_iter+1].startswith(('வீட்டு')):\n",
        "          f_h_name=row[row_iter]+' '+row[row_iter+1]\n",
        "          f_h_name=f_h_name.split(':')[-1]\n",
        "        else:\n",
        "          f_h_name=row[row_iter].split(':')[-1]\n",
        "        f_or_h='father'\n",
        "      elif row[row_iter].startswith(('கணவர்‌')):\n",
        "        if not row[row_iter+1].startswith(('வீட்டு')):\n",
        "          f_h_name=row[row_iter]+' '+row[row_iter+1]\n",
        "          f_h_name=f_h_name.split(':')[-1]\n",
        "        else:\n",
        "          f_h_name=row[row_iter].split(':')[-1]\n",
        "        f_or_h='husband'\n",
        "      elif row[row_iter].startswith(('தாய்‌')):\n",
        "        if not row[row_iter+1].startswith(('வீட்டு')):\n",
        "          f_h_name=row[row_iter]+' '+row[row_iter+1]\n",
        "          f_h_name=f_h_name.split(':')[-1]\n",
        "        else:\n",
        "          f_h_name=row[row_iter].split(':')[-1]\n",
        "        f_or_h='mother'\n",
        "\n",
        "      elif row[row_iter].startswith(('இதரர்‌')):\n",
        "        if not row[row_iter+1].startswith(('வீட்டு')):\n",
        "          f_h_name=row[row_iter]+' '+row[row_iter+1]\n",
        "          f_h_name=f_h_name.split(':')[-1]\n",
        "        else:\n",
        "          f_h_name=row[row_iter].split(':')[-1]\n",
        "        f_or_h='other'\n",
        "          \n",
        "  return f_or_h,f_h_name\n",
        "\n",
        "## Part Number\n",
        "def get_part_num(page_image):\n",
        "  crop_list=[1257,20,1519,100]\n",
        "  text_raw= image_text(image_crop(page_image,crop_list,False),psm=6,if_file=False)\n",
        "  part_num=text_raw.split(':')[-1]\n",
        "  return part_num\n",
        "\n",
        "#### Get Details from Voter Block #####\n",
        "\n",
        "def get_voter_block_textrows(block_image):\n",
        "  text_raw= image_text(block_image,psm=11,if_file=False)\n",
        "  all_rows=[]\n",
        "  for j in text_raw.split('\\n'):\n",
        "\n",
        "    k=j.replace('-', '').replace('Available','').replace('is','').replace('Photo','').replace('Proto','').replace(':  ','').replace('_','')\n",
        "    if k != '' and k != ' ' and k != '\\x0c'and k != '  ' and k != '   'and k != '    ' and k!=\"     \":\n",
        "      all_rows.append(k)\n",
        "  return all_rows\n",
        "\n",
        "def get_voter_block_details(all_rows):\n",
        "  v_name,v_id,f_or_h,f_h_name,age,gender,house_no='','','','','','',''\n",
        "\n",
        "  if len(all_rows)==5:\n",
        "    if all_rows[1].startswith('பெயர்‌'):\n",
        "      v_id=get_voterid(all_rows[0])\n",
        "      v_name=get_name(all_rows[1])\n",
        "      f_or_h,f_h_name=get_f_h_name(all_rows[2])\n",
        "      age, gender = get_gender_age(all_rows[4])\n",
        "      house_no=get_house_no(all_rows[3])\n",
        "    elif all_rows[0].startswith('பெயர்‌') and all_rows[4].startswith('வயது'):      \n",
        "      v_id=get_voterid(all_rows[3])\n",
        "      v_name=get_name(all_rows[0])\n",
        "      f_or_h,f_h_name=get_f_h_name(all_rows[1])\n",
        "      age, gender = get_gender_age(all_rows[4])\n",
        "      house_no=get_house_no(all_rows[2])\n",
        "    elif all_rows[0].startswith('பெயர்‌') and not all_rows[4].startswith('வயது'):      \n",
        "      v_id=get_voterid(all_rows[4])\n",
        "      v_name=get_name(all_rows[0])\n",
        "      f_or_h,f_h_name=get_f_h_name(all_rows[1])\n",
        "      age, gender = get_gender_age(all_rows[3])\n",
        "      house_no=get_house_no(all_rows[2])\n",
        "  elif len(all_rows)==6:\n",
        "      v_id=get_voterid(all_rows,is_list_or_string=True)\n",
        "      v_name=get_name(all_rows,is_list_or_string=True)\n",
        "      house_no=get_house_no(all_rows,is_list_or_string=True)\n",
        "      age, gender = get_gender_age(all_rows,is_list_or_string=True)\n",
        "      f_or_h,f_h_name=get_f_h_name(all_rows,is_list_or_string=True)\n",
        "  return v_name, v_id, house_no,age,gender,f_or_h,f_h_name"
      ],
      "execution_count": null,
      "outputs": []
    },
    {
      "cell_type": "code",
      "metadata": {
        "id": "CyEEMQNgedmL"
      },
      "source": [
        ""
      ],
      "execution_count": null,
      "outputs": []
    },
    {
      "cell_type": "markdown",
      "metadata": {
        "id": "LnSn8OKeYtlY"
      },
      "source": [
        "# Run Code"
      ]
    },
    {
      "cell_type": "code",
      "metadata": {
        "id": "b4rNQ1iV40QV"
      },
      "source": [
        "### Convert all PDFs into Images\n",
        "for pdffile in tqdm(pdf_file_list):\n",
        "  image_list=[]\n",
        "  working_path='./'+working_folder+'/'+pdffile.strip('.pdf')+'/images'\n",
        "  if not os.path.exists(working_path):\n",
        "    os.makedirs(working_path)\n",
        "  print('Working on PDF file: ',pdffile )\n",
        "  image_list=image_pdf('./'+working_folder+'/'+pdffile,working_path)\n",
        "  with open(working_path+'/_image_list.ob', 'wb') as fp:\n",
        "    pickle.dump(image_list, fp)"
      ],
      "execution_count": null,
      "outputs": []
    },
    {
      "cell_type": "code",
      "metadata": {
        "id": "tSUZnslX6zbM",
        "colab": {
          "base_uri": "https://localhost:8080/"
        },
        "outputId": "865139f6-d6d6-4afe-dbac-01b67224a829"
      },
      "source": [
        "### Extract info from all pages to CSV\n",
        "list_columns=['file_name','slno','sl_no_end','v_name','v_id','house_no','age','gender','relative_type','relative_name','ac_name','pc_name','state','part_num','year_pub','qual_date', 'main_town', 'police_station', 'mandal', 'revenue_division', 'circle', 'district', 'pincode', 'ps_name', 'ps_address', 'ps_type',\n",
        "'net_voters_male', 'net_voters_female', 'net_voters_third_gender', 'net_voters_total']\n",
        "\n",
        "dataframe_master=pd.DataFrame()\n",
        "\n",
        "for pdffile in tqdm(pdf_file_list):\n",
        "  image_list=[]\n",
        "  \n",
        "  file_name=pdffile.strip('.pdf').strip('./AC178/')\n",
        "  working_path='./'+working_folder+'/'+file_name\n",
        "\n",
        "  print('Working on PDF file: ',file_name )\n",
        "  sl_no=1\n",
        "  list_all=[]\n",
        "\n",
        "  with open(working_path+'/images/_image_list.ob', 'rb') as fp:\n",
        "      image_list=pickle.load(fp)\n",
        "\n",
        "  for page_iter in tqdm(range(len(image_list))):        \n",
        "      if page_iter==0:\n",
        "        sl_no_end,ac_name,pc_name,state,part_num,year_pub,qual_date, main_town, police_station, mandal, revenue_division, circle, district, pincode, ps_name, ps_address, ps_type,net_voters_male, net_voters_female, net_voters_third_gender, net_voters_total,text_revision_details,text_roll_identifier,text_sections_name = first_page_extract(image_list[page_iter])\n",
        "        continue\n",
        "      elif page_iter==2:\n",
        "        part_num=get_part_num(image_list[page_iter])\n",
        "        block_images=voter_block_crop(image_list[page_iter],True)\n",
        "      elif len(image_list)-1>page_iter>2:\n",
        "        block_images=voter_block_crop(image_list[page_iter],False)\n",
        "      else:\n",
        "        continue\n",
        "      for block_iter in range(len(block_images)):\n",
        "        rows_text=get_voter_block_textrows(block_images[block_iter])\n",
        "        if len(rows_text)>0:     \n",
        "          v_name, v_id, house_no,age,gender,f_or_h,f_h_name=get_voter_block_details(rows_text)\n",
        "          temp_list_all=file_name,sl_no,sl_no_end,v_name,v_id,house_no,age,gender,f_or_h,f_h_name,ac_name,pc_name,state,part_num,year_pub,qual_date, main_town, police_station, mandal, revenue_division, circle, district, pincode, ps_name, ps_address, ps_type,net_voters_male, net_voters_female, net_voters_third_gender, net_voters_total\n",
        "          list_all.append(temp_list_all)\n",
        "          sl_no+=1\n",
        "  dataframe_cur=pd.DataFrame(list_all,columns=list_columns)\n",
        "\n",
        "  dataframe_cur.to_csv('./'+file_name+'.csv')\n",
        "\n",
        "  dataframe_master=dataframe_master.append(dataframe_cur)\n",
        "  dataframe_master.to_csv('./'+'master_roll.csv')\n",
        "\n",
        "\n",
        "    "
      ],
      "execution_count": null,
      "outputs": [
        {
          "output_type": "stream",
          "text": [
            "\n",
            "\n",
            "\n",
            "\n",
            "\n",
            "\n",
            "\n",
            "\n",
            "  0%|          | 0/40 [00:00<?, ?it/s]\u001b[A\u001b[A\u001b[A\u001b[A\u001b[A\u001b[A\u001b[A\u001b[A"
          ],
          "name": "stderr"
        },
        {
          "output_type": "stream",
          "text": [
            "Working on PDF file:  ac178016\n"
          ],
          "name": "stdout"
        },
        {
          "output_type": "stream",
          "text": [
            "\n",
            "\n",
            "\n",
            "\n",
            "\n",
            "\n",
            "\n",
            "\n",
            "\n",
            "  0%|          | 0/41 [00:00<?, ?it/s]\u001b[A\u001b[A\u001b[A\u001b[A\u001b[A\u001b[A\u001b[A\u001b[A\u001b[A\n",
            "\n",
            "\n",
            "\n",
            "\n",
            "\n",
            "\n",
            "\n",
            "\n",
            "  2%|▏         | 1/41 [00:10<06:46, 10.15s/it]\u001b[A\u001b[A\u001b[A\u001b[A\u001b[A\u001b[A\u001b[A\u001b[A\u001b[A\n",
            "\n",
            "\n",
            "\n",
            "\n",
            "\n",
            "\n",
            "\n",
            "\n",
            "  7%|▋         | 3/41 [00:32<06:39, 10.51s/it]\u001b[A\u001b[A\u001b[A\u001b[A\u001b[A\u001b[A\u001b[A\u001b[A\u001b[A\n",
            "\n",
            "\n",
            "\n",
            "\n",
            "\n",
            "\n",
            "\n",
            "\n",
            " 10%|▉         | 4/41 [00:55<08:44, 14.18s/it]\u001b[A\u001b[A\u001b[A\u001b[A\u001b[A\u001b[A\u001b[A\u001b[A\u001b[A\n",
            "\n",
            "\n",
            "\n",
            "\n",
            "\n",
            "\n",
            "\n",
            "\n",
            " 12%|█▏        | 5/41 [01:18<10:00, 16.69s/it]\u001b[A\u001b[A\u001b[A\u001b[A\u001b[A\u001b[A\u001b[A\u001b[A\u001b[A\n",
            "\n",
            "\n",
            "\n",
            "\n",
            "\n",
            "\n",
            "\n",
            "\n",
            " 15%|█▍        | 6/41 [01:39<10:38, 18.25s/it]\u001b[A\u001b[A\u001b[A\u001b[A\u001b[A\u001b[A\u001b[A\u001b[A\u001b[A\n",
            "\n",
            "\n",
            "\n",
            "\n",
            "\n",
            "\n",
            "\n",
            "\n",
            " 17%|█▋        | 7/41 [01:47<08:26, 14.89s/it]\u001b[A\u001b[A\u001b[A\u001b[A\u001b[A\u001b[A\u001b[A\u001b[A\u001b[A\n",
            "\n",
            "\n",
            "\n",
            "\n",
            "\n",
            "\n",
            "\n",
            "\n",
            " 20%|█▉        | 8/41 [02:08<09:12, 16.73s/it]\u001b[A\u001b[A\u001b[A\u001b[A\u001b[A\u001b[A\u001b[A\u001b[A\u001b[A\n",
            "\n",
            "\n",
            "\n",
            "\n",
            "\n",
            "\n",
            "\n",
            "\n",
            " 22%|██▏       | 9/41 [02:28<09:30, 17.82s/it]\u001b[A\u001b[A\u001b[A\u001b[A\u001b[A\u001b[A\u001b[A\u001b[A\u001b[A\n",
            "\n",
            "\n",
            "\n",
            "\n",
            "\n",
            "\n",
            "\n",
            "\n",
            " 24%|██▍       | 10/41 [02:50<09:53, 19.15s/it]\u001b[A\u001b[A\u001b[A\u001b[A\u001b[A\u001b[A\u001b[A\u001b[A\u001b[A\n",
            "\n",
            "\n",
            "\n",
            "\n",
            "\n",
            "\n",
            "\n",
            "\n",
            " 27%|██▋       | 11/41 [03:13<10:11, 20.40s/it]\u001b[A\u001b[A\u001b[A\u001b[A\u001b[A\u001b[A\u001b[A\u001b[A\u001b[A\n",
            "\n",
            "\n",
            "\n",
            "\n",
            "\n",
            "\n",
            "\n",
            "\n",
            " 29%|██▉       | 12/41 [03:37<10:20, 21.40s/it]\u001b[A\u001b[A\u001b[A\u001b[A\u001b[A\u001b[A\u001b[A\u001b[A\u001b[A\n",
            "\n",
            "\n",
            "\n",
            "\n",
            "\n",
            "\n",
            "\n",
            "\n",
            " 32%|███▏      | 13/41 [04:02<10:24, 22.30s/it]\u001b[A\u001b[A\u001b[A\u001b[A\u001b[A\u001b[A\u001b[A\u001b[A\u001b[A\n",
            "\n",
            "\n",
            "\n",
            "\n",
            "\n",
            "\n",
            "\n",
            "\n",
            " 34%|███▍      | 14/41 [04:16<08:55, 19.85s/it]\u001b[A\u001b[A\u001b[A\u001b[A\u001b[A\u001b[A\u001b[A\u001b[A\u001b[A\n",
            "\n",
            "\n",
            "\n",
            "\n",
            "\n",
            "\n",
            "\n",
            "\n",
            " 37%|███▋      | 15/41 [04:40<09:13, 21.30s/it]\u001b[A\u001b[A\u001b[A\u001b[A\u001b[A\u001b[A\u001b[A\u001b[A\u001b[A\n",
            "\n",
            "\n",
            "\n",
            "\n",
            "\n",
            "\n",
            "\n",
            "\n",
            " 39%|███▉      | 16/41 [05:04<09:10, 22.04s/it]\u001b[A\u001b[A\u001b[A\u001b[A\u001b[A\u001b[A\u001b[A\u001b[A\u001b[A\n",
            "\n",
            "\n",
            "\n",
            "\n",
            "\n",
            "\n",
            "\n",
            "\n",
            " 41%|████▏     | 17/41 [05:28<09:00, 22.53s/it]\u001b[A\u001b[A\u001b[A\u001b[A\u001b[A\u001b[A\u001b[A\u001b[A\u001b[A\n",
            "\n",
            "\n",
            "\n",
            "\n",
            "\n",
            "\n",
            "\n",
            "\n",
            " 44%|████▍     | 18/41 [05:46<08:05, 21.09s/it]\u001b[A\u001b[A\u001b[A\u001b[A\u001b[A\u001b[A\u001b[A\u001b[A\u001b[A\n",
            "\n",
            "\n",
            "\n",
            "\n",
            "\n",
            "\n",
            "\n",
            "\n",
            " 46%|████▋     | 19/41 [06:07<07:46, 21.20s/it]\u001b[A\u001b[A\u001b[A\u001b[A\u001b[A\u001b[A\u001b[A\u001b[A\u001b[A\n",
            "\n",
            "\n",
            "\n",
            "\n",
            "\n",
            "\n",
            "\n",
            "\n",
            " 49%|████▉     | 20/41 [06:30<07:36, 21.74s/it]\u001b[A\u001b[A\u001b[A\u001b[A\u001b[A\u001b[A\u001b[A\u001b[A\u001b[A\n",
            "\n",
            "\n",
            "\n",
            "\n",
            "\n",
            "\n",
            "\n",
            "\n",
            " 51%|█████     | 21/41 [06:52<07:16, 21.85s/it]\u001b[A\u001b[A\u001b[A\u001b[A\u001b[A\u001b[A\u001b[A\u001b[A\u001b[A\n",
            "\n",
            "\n",
            "\n",
            "\n",
            "\n",
            "\n",
            "\n",
            "\n",
            " 54%|█████▎    | 22/41 [07:15<07:02, 22.24s/it]\u001b[A\u001b[A\u001b[A\u001b[A\u001b[A\u001b[A\u001b[A\u001b[A\u001b[A\n",
            "\n",
            "\n",
            "\n",
            "\n",
            "\n",
            "\n",
            "\n",
            "\n",
            " 56%|█████▌    | 23/41 [07:39<06:47, 22.66s/it]\u001b[A\u001b[A\u001b[A\u001b[A\u001b[A\u001b[A\u001b[A\u001b[A\u001b[A\n",
            "\n",
            "\n",
            "\n",
            "\n",
            "\n",
            "\n",
            "\n",
            "\n",
            " 59%|█████▊    | 24/41 [07:53<05:42, 20.15s/it]\u001b[A\u001b[A\u001b[A\u001b[A\u001b[A\u001b[A\u001b[A\u001b[A\u001b[A\n",
            "\n",
            "\n",
            "\n",
            "\n",
            "\n",
            "\n",
            "\n",
            "\n",
            " 61%|██████    | 25/41 [08:15<05:31, 20.72s/it]\u001b[A\u001b[A\u001b[A\u001b[A\u001b[A\u001b[A\u001b[A\u001b[A\u001b[A\n",
            "\n",
            "\n",
            "\n",
            "\n",
            "\n",
            "\n",
            "\n",
            "\n",
            " 63%|██████▎   | 26/41 [08:38<05:18, 21.26s/it]\u001b[A\u001b[A\u001b[A\u001b[A\u001b[A\u001b[A\u001b[A\u001b[A\u001b[A\n",
            "\n",
            "\n",
            "\n",
            "\n",
            "\n",
            "\n",
            "\n",
            "\n",
            " 66%|██████▌   | 27/41 [09:01<05:04, 21.75s/it]\u001b[A\u001b[A\u001b[A\u001b[A\u001b[A\u001b[A\u001b[A\u001b[A\u001b[A\n",
            "\n",
            "\n",
            "\n",
            "\n",
            "\n",
            "\n",
            "\n",
            "\n",
            " 68%|██████▊   | 28/41 [09:24<04:49, 22.23s/it]\u001b[A\u001b[A\u001b[A\u001b[A\u001b[A\u001b[A\u001b[A\u001b[A\u001b[A\n",
            "\n",
            "\n",
            "\n",
            "\n",
            "\n",
            "\n",
            "\n",
            "\n",
            " 71%|███████   | 29/41 [09:47<04:29, 22.47s/it]\u001b[A\u001b[A\u001b[A\u001b[A\u001b[A\u001b[A\u001b[A\u001b[A\u001b[A\n",
            "\n",
            "\n",
            "\n",
            "\n",
            "\n",
            "\n",
            "\n",
            "\n",
            " 73%|███████▎  | 30/41 [10:10<04:09, 22.64s/it]\u001b[A\u001b[A\u001b[A\u001b[A\u001b[A\u001b[A\u001b[A\u001b[A\u001b[A\n",
            "\n",
            "\n",
            "\n",
            "\n",
            "\n",
            "\n",
            "\n",
            "\n",
            " 76%|███████▌  | 31/41 [10:34<03:49, 22.90s/it]\u001b[A\u001b[A\u001b[A\u001b[A\u001b[A\u001b[A\u001b[A\u001b[A\u001b[A\n",
            "\n",
            "\n",
            "\n",
            "\n",
            "\n",
            "\n",
            "\n",
            "\n",
            " 78%|███████▊  | 32/41 [10:57<03:26, 22.97s/it]\u001b[A\u001b[A\u001b[A\u001b[A\u001b[A\u001b[A\u001b[A\u001b[A\u001b[A\n",
            "\n",
            "\n",
            "\n",
            "\n",
            "\n",
            "\n",
            "\n",
            "\n",
            " 80%|████████  | 33/41 [11:19<03:02, 22.85s/it]\u001b[A\u001b[A\u001b[A\u001b[A\u001b[A\u001b[A\u001b[A\u001b[A\u001b[A\n",
            "\n",
            "\n",
            "\n",
            "\n",
            "\n",
            "\n",
            "\n",
            "\n",
            " 83%|████████▎ | 34/41 [11:36<02:27, 21.05s/it]\u001b[A\u001b[A\u001b[A\u001b[A\u001b[A\u001b[A\u001b[A\u001b[A\u001b[A\n",
            "\n",
            "\n",
            "\n",
            "\n",
            "\n",
            "\n",
            "\n",
            "\n",
            " 85%|████████▌ | 35/41 [11:59<02:09, 21.58s/it]\u001b[A\u001b[A\u001b[A\u001b[A\u001b[A\u001b[A\u001b[A\u001b[A\u001b[A\n",
            "\n",
            "\n",
            "\n",
            "\n",
            "\n",
            "\n",
            "\n",
            "\n",
            " 88%|████████▊ | 36/41 [12:21<01:48, 21.76s/it]\u001b[A\u001b[A\u001b[A\u001b[A\u001b[A\u001b[A\u001b[A\u001b[A\u001b[A\n",
            "\n",
            "\n",
            "\n",
            "\n",
            "\n",
            "\n",
            "\n",
            "\n",
            " 90%|█████████ | 37/41 [12:37<01:19, 19.90s/it]\u001b[A\u001b[A\u001b[A\u001b[A\u001b[A\u001b[A\u001b[A\u001b[A\u001b[A\n",
            "\n",
            "\n",
            "\n",
            "\n",
            "\n",
            "\n",
            "\n",
            "\n",
            " 93%|█████████▎| 38/41 [13:00<01:02, 20.77s/it]\u001b[A\u001b[A\u001b[A\u001b[A\u001b[A\u001b[A\u001b[A\u001b[A\u001b[A\n",
            "\n",
            "\n",
            "\n",
            "\n",
            "\n",
            "\n",
            "\n",
            "\n",
            " 95%|█████████▌| 39/41 [13:22<00:42, 21.32s/it]\u001b[A\u001b[A\u001b[A\u001b[A\u001b[A\u001b[A\u001b[A\u001b[A\u001b[A\n",
            "\n",
            "\n",
            "\n",
            "\n",
            "\n",
            "\n",
            "\n",
            "\n",
            "100%|██████████| 41/41 [13:33<00:00, 19.84s/it]\n",
            "\n",
            "\n",
            "\n",
            "\n",
            "\n",
            "\n",
            "\n",
            "\n",
            "  2%|▎         | 1/40 [13:35<8:49:47, 815.06s/it]\u001b[A\u001b[A\u001b[A\u001b[A\u001b[A\u001b[A\u001b[A\u001b[A"
          ],
          "name": "stderr"
        },
        {
          "output_type": "stream",
          "text": [
            "Working on PDF file:  ac178002\n"
          ],
          "name": "stdout"
        },
        {
          "output_type": "stream",
          "text": [
            "\n",
            "\n",
            "\n",
            "\n",
            "\n",
            "\n",
            "\n",
            "\n",
            "\n",
            "  0%|          | 0/30 [00:00<?, ?it/s]\u001b[A\u001b[A\u001b[A\u001b[A\u001b[A\u001b[A\u001b[A\u001b[A\u001b[A\n",
            "\n",
            "\n",
            "\n",
            "\n",
            "\n",
            "\n",
            "\n",
            "\n",
            "  3%|▎         | 1/30 [00:08<04:17,  8.88s/it]\u001b[A\u001b[A\u001b[A\u001b[A\u001b[A\u001b[A\u001b[A\u001b[A\u001b[A\n",
            "\n",
            "\n",
            "\n",
            "\n",
            "\n",
            "\n",
            "\n",
            "\n",
            " 10%|█         | 3/30 [00:32<04:23,  9.76s/it]\u001b[A\u001b[A\u001b[A\u001b[A\u001b[A\u001b[A\u001b[A\u001b[A\u001b[A\n",
            "\n",
            "\n",
            "\n",
            "\n",
            "\n",
            "\n",
            "\n",
            "\n",
            " 13%|█▎        | 4/30 [00:57<06:11, 14.29s/it]\u001b[A\u001b[A\u001b[A\u001b[A\u001b[A\u001b[A\u001b[A\u001b[A\u001b[A\n",
            "\n",
            "\n",
            "\n",
            "\n",
            "\n",
            "\n",
            "\n",
            "\n",
            " 17%|█▋        | 5/30 [01:21<07:14, 17.38s/it]\u001b[A\u001b[A\u001b[A\u001b[A\u001b[A\u001b[A\u001b[A\u001b[A\u001b[A\n",
            "\n",
            "\n",
            "\n",
            "\n",
            "\n",
            "\n",
            "\n",
            "\n",
            " 20%|██        | 6/30 [01:47<07:54, 19.78s/it]\u001b[A\u001b[A\u001b[A\u001b[A\u001b[A\u001b[A\u001b[A\u001b[A\u001b[A\n",
            "\n",
            "\n",
            "\n",
            "\n",
            "\n",
            "\n",
            "\n",
            "\n",
            " 23%|██▎       | 7/30 [02:11<08:04, 21.06s/it]\u001b[A\u001b[A\u001b[A\u001b[A\u001b[A\u001b[A\u001b[A\u001b[A\u001b[A\n",
            "\n",
            "\n",
            "\n",
            "\n",
            "\n",
            "\n",
            "\n",
            "\n",
            " 27%|██▋       | 8/30 [02:25<06:55, 18.89s/it]\u001b[A\u001b[A\u001b[A\u001b[A\u001b[A\u001b[A\u001b[A\u001b[A\u001b[A\n",
            "\n",
            "\n",
            "\n",
            "\n",
            "\n",
            "\n",
            "\n",
            "\n",
            " 30%|███       | 9/30 [02:47<06:57, 19.90s/it]\u001b[A\u001b[A\u001b[A\u001b[A\u001b[A\u001b[A\u001b[A\u001b[A\u001b[A\n",
            "\n",
            "\n",
            "\n",
            "\n",
            "\n",
            "\n",
            "\n",
            "\n",
            " 33%|███▎      | 10/30 [03:11<07:00, 21.02s/it]\u001b[A\u001b[A\u001b[A\u001b[A\u001b[A\u001b[A\u001b[A\u001b[A\u001b[A\n",
            "\n",
            "\n",
            "\n",
            "\n",
            "\n",
            "\n",
            "\n",
            "\n",
            " 37%|███▋      | 11/30 [03:34<06:53, 21.75s/it]\u001b[A\u001b[A\u001b[A\u001b[A\u001b[A\u001b[A\u001b[A\u001b[A\u001b[A\n",
            "\n",
            "\n",
            "\n",
            "\n",
            "\n",
            "\n",
            "\n",
            "\n",
            " 40%|████      | 12/30 [03:58<06:40, 22.27s/it]\u001b[A\u001b[A\u001b[A\u001b[A\u001b[A\u001b[A\u001b[A\u001b[A\u001b[A\n",
            "\n",
            "\n",
            "\n",
            "\n",
            "\n",
            "\n",
            "\n",
            "\n",
            " 43%|████▎     | 13/30 [04:07<05:11, 18.30s/it]\u001b[A\u001b[A\u001b[A\u001b[A\u001b[A\u001b[A\u001b[A\u001b[A\u001b[A\n",
            "\n",
            "\n",
            "\n",
            "\n",
            "\n",
            "\n",
            "\n",
            "\n",
            " 47%|████▋     | 14/30 [04:29<05:10, 19.40s/it]\u001b[A\u001b[A\u001b[A\u001b[A\u001b[A\u001b[A\u001b[A\u001b[A\u001b[A\n",
            "\n",
            "\n",
            "\n",
            "\n",
            "\n",
            "\n",
            "\n",
            "\n",
            " 50%|█████     | 15/30 [04:53<05:11, 20.76s/it]\u001b[A\u001b[A\u001b[A\u001b[A\u001b[A\u001b[A\u001b[A\u001b[A\u001b[A\n",
            "\n",
            "\n",
            "\n",
            "\n",
            "\n",
            "\n",
            "\n",
            "\n",
            " 53%|█████▎    | 16/30 [05:16<05:03, 21.67s/it]\u001b[A\u001b[A\u001b[A\u001b[A\u001b[A\u001b[A\u001b[A\u001b[A\u001b[A"
          ],
          "name": "stderr"
        }
      ]
    },
    {
      "cell_type": "markdown",
      "metadata": {
        "id": "bA-ZJLwRZJsh"
      },
      "source": [
        "# Rough Code Blocks"
      ]
    },
    {
      "cell_type": "code",
      "metadata": {
        "id": "Dx7WHTv7ZOBk"
      },
      "source": [
        ""
      ],
      "execution_count": null,
      "outputs": []
    }
  ]
}